{
  "nbformat": 4,
  "nbformat_minor": 0,
  "metadata": {
    "colab": {
      "name": "data_clean_up.ipynb",
      "provenance": [],
      "authorship_tag": "ABX9TyPyaYphc3wavwpEWDJvI7da",
      "include_colab_link": true
    },
    "kernelspec": {
      "name": "python3",
      "display_name": "Python 3"
    },
    "language_info": {
      "name": "python"
    }
  },
  "cells": [
    {
      "cell_type": "markdown",
      "metadata": {
        "id": "view-in-github",
        "colab_type": "text"
      },
      "source": [
        "<a href=\"https://colab.research.google.com/github/srirag-vuppala/bioinf-calpoly-project/blob/main/data_clean_up.ipynb\" target=\"_parent\"><img src=\"https://colab.research.google.com/assets/colab-badge.svg\" alt=\"Open In Colab\"/></a>"
      ]
    },
    {
      "cell_type": "code",
      "metadata": {
        "colab": {
          "base_uri": "https://localhost:8080/"
        },
        "id": "JPppFN-aFMGS",
        "outputId": "24af3c70-8a75-4e18-ca7b-9ba7c7f2127d"
      },
      "source": [
        "!curl -H \"Accept: application/json\" https://www.encodeproject.org/biosamples/ENCBS000AAA/"
      ],
      "execution_count": null,
      "outputs": [
        {
          "output_type": "stream",
          "name": "stdout",
          "text": [
            "{\"accession\": \"ENCBS000AAA\", \"url\": \"http://www.atcc.org/Products/All/HTB-22.aspx\", \"aliases\": [\"richard-myers:MCF7-003\"], \"schema_version\": \"26\", \"status\": \"released\", \"lab\": {\"fax\": \"256-327-0978\", \"institute_label\": \"HAIB\", \"address1\": \"601 Genome Way\", \"state\": \"AL\", \"institute_name\": \"HudsonAlpha Institute for Biotechnology\", \"awards\": [\"/awards/U54HG006998/\", \"/awards/U54HG004576/\", \"/awards/UM1HG009411/\"], \"title\": \"Richard Myers, HAIB\", \"phone1\": \"256-327-5220\", \"phone2\": \"\", \"schema_version\": \"5\", \"pi\": \"/users/a62cfec5-57a0-45ab-b943-8ca0e0057bb6/\", \"postal_code\": \"35806\", \"name\": \"richard-myers\", \"city\": \"Huntsville\", \"country\": \"USA\", \"status\": \"current\", \"@id\": \"/labs/richard-myers/\", \"@type\": [\"Lab\", \"Item\"], \"uuid\": \"c0a3540e-8ef0-4d4d-a449-ae47c2475838\"}, \"award\": {\"status\": \"disabled\", \"url\": \"http://projectreporter.nih.gov/project_info_details.cfm?aid=8298349\", \"schema_version\": \"11\", \"title\": \"GLOBAL ANNOTATION OF REGULATORY ELEMENTS IN THE HUMAN GENOME\", \"name\": \"U54HG004576\", \"description\": \"The goal of the ENCODE Project is to provide the scientific community with a complete annotation of the human genome by delineating the DNA sequence features that comprise all genes, including exons, introns, promoters and cis-regulatory sequences. The pilot ENCODE project sought to develop and test a variety of experimental, computational and analytical platforms to determine the best ways to approach this problem by focusing on a defined 1% of the human genome. During this initial phase of ENCODE, the applicants of this proposal developed robust high-throughput methods for detecting and validating functional transcription promoters, DNA methylation patterns, and transcription factor occupancy in the pilot regions, and demonstrated that these approaches can be scaled fully to the entire human genome with high robustness, sensitivity and specificity. These experiences, together with the resulting technology and analysis platforms and an existing, highly productive infrastructure, lead to this response to NHGRI's RFA-HG-07-030. This application presents an ambitious proposal to expand a program to map and functionally annotate cis-regulatory sequences of the human genome. The plan emphasizes full genome-comprehensivity for three experimental pipelines.: 1) a new sequence-based method called ChlPSeq to elucidate more than 600 comprehensive transcription factor:DNA interactomes; 2) a similar new method called MethSeq to determine the methylation status of all the CpG-rich regions in the human genome in more than 1,000 human cell types and cell states; and 3) a high throughput transfection assay pipeline to measure transcriptional activities of 25,000 human \\\"promoter-plus\\\" proximal cis-regulatory domains, including at least one major promoter for each of the annotated protein-coding genes. A second major product of the promoter pipeline will be a physical resource of proximate reporter constructs for all human genes, designed to accommodate future fine-structure dissection of the promoter regulatory motifs and testing of long-distance elements. All of the experimental work in this project will be subjected to analysis with appropriate quality metrics. In addition, comparative genomics and other computational analyses will be integrated with the experimental production to help prioritize and shape input to the pipelines and to capture information in forms useful to both biologists and genomicists. These analyses will produce several large-scale deliverables, including hundreds of ChIP data-driven sequence motif models, some of which additionally leverage evolutionary conservation for each of hundreds of transcription factors.\", \"start_date\": \"2007-09-27\", \"end_date\": \"2012-12-31\", \"pi\": {\"@id\": \"/users/a62cfec5-57a0-45ab-b943-8ca0e0057bb6/\", \"@type\": [\"User\", \"Item\"], \"uuid\": \"a62cfec5-57a0-45ab-b943-8ca0e0057bb6\", \"lab\": {\"fax\": \"256-327-0978\", \"institute_label\": \"HAIB\", \"address1\": \"601 Genome Way\", \"state\": \"AL\", \"institute_name\": \"HudsonAlpha Institute for Biotechnology\", \"awards\": [\"/awards/U54HG006998/\", \"/awards/U54HG004576/\", \"/awards/UM1HG009411/\"], \"title\": \"Richard Myers, HAIB\", \"phone1\": \"256-327-5220\", \"phone2\": \"\", \"schema_version\": \"5\", \"pi\": \"/users/a62cfec5-57a0-45ab-b943-8ca0e0057bb6/\", \"postal_code\": \"35806\", \"name\": \"richard-myers\", \"city\": \"Huntsville\", \"country\": \"USA\", \"status\": \"current\", \"@id\": \"/labs/richard-myers/\", \"@type\": [\"Lab\", \"Item\"], \"uuid\": \"c0a3540e-8ef0-4d4d-a449-ae47c2475838\"}, \"title\": \"Richard Myers\", \"submits_for\": [\"/labs/richard-myers/\", \"/labs/barbara-wold/\", \"/labs/ali-mortazavi/\", \"/labs/ross-hardison/\", \"/labs/tim-reddy/\", \"/labs/greg-cooper/\"]}, \"rfa\": \"ENCODE2\", \"project\": \"ENCODE\", \"viewing_group\": \"ENCODE3\", \"@id\": \"/awards/U54HG004576/\", \"@type\": [\"Award\", \"Item\"], \"uuid\": \"7fd6664b-17f5-4bfe-9fdf-ed7481cf4d24\"}, \"date_created\": \"2013-12-12T05:50:02.101495+00:00\", \"submitted_by\": {\"@id\": \"/users/df9f3c8e-b819-4885-8f16-08f6ef0001e8/\", \"@type\": [\"User\", \"Item\"], \"uuid\": \"df9f3c8e-b819-4885-8f16-08f6ef0001e8\", \"lab\": \"/labs/richard-myers/\", \"title\": \"Flo Pauli-Behn\", \"submits_for\": [\"/labs/richard-myers/\", \"/labs/barbara-wold/\", \"/labs/ali-mortazavi/\", \"/labs/ross-hardison/\", \"/labs/tim-reddy/\", \"/labs/greg-cooper/\"]}, \"notes\": \"(PMID: 4357757)\", \"documents\": [{\"references\": [], \"aliases\": [\"encode:MCF-7_Farnham_growth_protocol\"], \"attachment\": {\"download\": \"MCF-7_Farnham_protocol.pdf\", \"type\": \"application/pdf\", \"href\": \"@@download/attachment/MCF-7_Farnham_protocol.pdf\"}, \"submitted_by\": {\"@id\": \"/users/2eb068c5-b7a6-48ec-aca2-c439e4dabb08/\", \"@type\": [\"User\", \"Item\"], \"uuid\": \"2eb068c5-b7a6-48ec-aca2-c439e4dabb08\", \"lab\": \"/labs/peggy-farnham/\", \"title\": \"Peggy Farnham\", \"submits_for\": [\"/labs/peggy-farnham/\"]}, \"schema_version\": \"8\", \"urls\": [], \"date_created\": \"2013-09-13T13:29:14.302068-08:00\", \"document_type\": \"growth protocol\", \"lab\": {\"fax\": \"323-442-1224\", \"address2\": \"1333 San Pablo St.\", \"address1\": \"Department of Biochemistry & Molecular Biology\", \"state\": \"CA\", \"institute_name\": \"University of Southern California\", \"awards\": [\"/awards/U54HG006996/\"], \"title\": \"Peggy Farnham, USC\", \"phone1\": \"323-442-8015\", \"city\": \"Los Angeles\", \"phone2\": \"323-442-1145\", \"schema_version\": \"5\", \"pi\": \"/users/2eb068c5-b7a6-48ec-aca2-c439e4dabb08/\", \"postal_code\": \"90033\", \"name\": \"peggy-farnham\", \"institute_label\": \"USC\", \"country\": \"USA\", \"status\": \"current\", \"@id\": \"/labs/peggy-farnham/\", \"@type\": [\"Lab\", \"Item\"], \"uuid\": \"bd811762-e814-451f-a0b0-dce2ee2e73df\"}, \"status\": \"released\", \"description\": \"MCF-7 Cell Culture and 4-hydroxytamoxifen treatment\", \"award\": {\"status\": \"disabled\", \"url\": \"http://projectreporter.nih.gov/project_info_details.cfm?aid=8325805\", \"schema_version\": \"11\", \"title\": \"PRODUCTION CENTER FOR GLOBAL MAPPING OF REGULATORY ELEMENTS\", \"name\": \"U54HG004558\", \"description\": \"Mapping regulatory information throughout the human genome is essential for both determining the function of the human genome and for understanding human development and disease. We propose to establish a high throughput production facility to identify the DNA binding sites for transcription factors and chromatin modifying proteins in human cells. Transcription factor targets, chromatin modifications and modifying enzymes will be mapped across the genome using chromatin immunoprecipitation experiments. This binding information will be validated and analyzed to ensure that it is of high quality and then compared to other genomic annotations. Our three aims are: 1) To establish a production facility for mapping targets of transcription factors. The pipeline will consist of five components: a) cell preparation, b) antibody validation and chromatin immunoprecipitation, c) DNA target analysis, d) target validation and e) sample tracking and databases. 2) To use the pipeline to map targets of 600 transcription factors, chromatin modifications and chromatin modifying enzymes in at least two major cell lines (HeLa S3 and HepG2), and targets of other factors in additional cell lines. 3) To maintain our results in a database and also make them accessible through public databases. We will interrelate our genomic annotations with those determined by other groups (particularly those from the ENCODE consortium), focusing on correlating patterns of transcription-factor binding and chromatin modifications with gene expression. We expect this project to contribute significant information to the identification of regulatory and functional elements in the human genome.\", \"start_date\": \"2007-09-28\", \"end_date\": \"2013-06-30\", \"pi\": \"/users/27e105ca-c741-4459-bf17-90e003508639/\", \"rfa\": \"ENCODE2\", \"project\": \"ENCODE\", \"viewing_group\": \"ENCODE3\", \"@id\": \"/awards/U54HG004558/\", \"@type\": [\"Award\", \"Item\"], \"uuid\": \"df972196-c3c7-4a58-a852-94baa87f9b71\"}, \"@id\": \"/documents/984071d4-9149-476a-b353-93592c6f48f3/\", \"@type\": [\"Document\", \"Item\"], \"uuid\": \"984071d4-9149-476a-b353-93592c6f48f3\"}], \"references\": [], \"source\": {\"status\": \"released\", \"name\": \"atcc\", \"schema_version\": \"6\", \"aliases\": [\"encode:ATCC\"], \"description\": \"American Type Culture Collection (ATCC)\", \"url\": \"http://www.atcc.org/\", \"title\": \"ATCC\", \"@id\": \"/sources/atcc/\", \"@type\": [\"Source\", \"Item\"], \"uuid\": \"eadabaf1-d5b6-4b48-8847-e86461f12101\"}, \"product_id\": \"HTB-22\", \"biosample_ontology\": {\"schema_version\": \"1\", \"aliases\": [\"encode:MCF7\"], \"classification\": \"cell line\", \"dbxrefs\": [\"Cellosaurus:CVCL_0031\"], \"term_name\": \"MCF-7\", \"term_id\": \"EFO:0001203\", \"status\": \"released\", \"references\": [], \"@id\": \"/biosample-types/cell_line_EFO_0001203/\", \"@type\": [\"BiosampleType\", \"Item\"], \"uuid\": \"d960788d-1d16-42c8-a443-0d9a996a0c62\", \"name\": \"cell_line_EFO_0001203\", \"organ_slims\": [\"exocrine gland\", \"mammary gland\", \"epithelium\"], \"cell_slims\": [\"cancer cell\", \"epithelial cell\"], \"developmental_slims\": [\"ectoderm\"], \"system_slims\": [\"integumental system\", \"exocrine system\"], \"synonyms\": [\"MCF7\", \"MCF-7 cell\", \"MCF7 cell\"]}, \"genetic_modifications\": [], \"alternate_accessions\": [], \"description\": \"mammary gland, adenocarcinoma\", \"treatments\": [], \"dbxrefs\": [\"UCSC-ENCODE-cv:MCF-7\"], \"donor\": {\"schema_version\": \"12\", \"accession\": \"ENCDO000AAE\", \"aliases\": [\"encode:donor of MCF-7\", \"bradley-bernstein:Donor of MCF-7 cells\"], \"status\": \"released\", \"lab\": \"/labs/encode-consortium/\", \"award\": \"/awards/U41HG006992/\", \"date_created\": \"2013-10-04T09:10:06.721185-08:00\", \"submitted_by\": \"/users/81a6cc12-2847-4e2e-8f2c-f566699eb29e/\", \"documents\": [], \"references\": [{\"documents\": [], \"status\": \"released\", \"lab\": \"/labs/encode-consortium/\", \"award\": \"/awards/ENCODE/\", \"date_created\": \"2015-04-13T21:43:13.694592+00:00\", \"submitted_by\": \"/users/ff7b77e7-bb55-4307-b665-814c9f1e65fb/\", \"schema_version\": \"9\", \"title\": \"A human cell line from a pleural effusion derived from a breast carcinoma.\", \"abstract\": \"A primary culture, 734B, was grown from a pleural effusion of a patient with metastatic mammary carcinoma. This culture continually produced free-floating cells used to initiate serial passages that could be transferred at 25-day intervals. A stable cell line, MCF-7, was derived from the free-floating cells and has been maintained for over 90 weekly passages. MCF-7 and 734B retained several characteristics of differentiated mammary epithelium, including the cytoplasmic estrogen receptor and the capability of forming domes. Four lines of evidence attest to the human origin of the cells.\", \"authors\": \"Soule HD, Vazguez J, Long A, Albert S, Brennan M\", \"date_published\": \"1973 Nov\", \"issue\": \"5\", \"page\": \"1409-16\", \"volume\": \"51\", \"journal\": \"Journal of the National Cancer Institute\", \"identifiers\": [\"PMID:4357757\"], \"supplementary_data\": [], \"published_by\": [\"historical reference\"], \"@id\": \"/publications/2cbcb148-7858-430c-9951-a16850c2b7fa/\", \"@type\": [\"Publication\", \"Item\"], \"uuid\": \"2cbcb148-7858-430c-9951-a16850c2b7fa\", \"publication_year\": 1973}], \"external_ids\": [], \"alternate_accessions\": [], \"organism\": {\"schema_version\": \"6\", \"scientific_name\": \"Homo sapiens\", \"name\": \"human\", \"status\": \"released\", \"taxon_id\": \"9606\", \"@id\": \"/organisms/human/\", \"@type\": [\"Organism\", \"Item\"], \"uuid\": \"7745b647-ff15-4ff3-9ced-b897d4e2983c\"}, \"sex\": \"female\", \"life_stage\": \"adult\", \"age\": \"69\", \"age_units\": \"year\", \"health_status\": \"breast cancer (adenocarcinoma)\", \"ethnicity\": [\"Caucasian\"], \"parents\": [], \"siblings\": [], \"dbxrefs\": [\"GEO:SAMN04284562\"], \"@id\": \"/human-donors/ENCDO000AAE/\", \"@type\": [\"HumanDonor\", \"Donor\", \"Item\"], \"uuid\": \"f9837098-f448-4910-b485-aa94b5f18553\", \"characterizations\": [], \"children\": []}, \"organism\": {\"schema_version\": \"6\", \"scientific_name\": \"Homo sapiens\", \"name\": \"human\", \"status\": \"released\", \"taxon_id\": \"9606\", \"@id\": \"/organisms/human/\", \"@type\": [\"Organism\", \"Item\"], \"uuid\": \"7745b647-ff15-4ff3-9ced-b897d4e2983c\"}, \"passage_number\": 5, \"internal_tags\": [], \"culture_harvest_date\": \"2012-04-10\", \"culture_start_date\": \"2012-03-16\", \"@id\": \"/biosamples/ENCBS000AAA/\", \"@type\": [\"Biosample\", \"Item\"], \"uuid\": \"56e94f2b-25ac-4c58-9828-f63b66220999\", \"sex\": \"female\", \"age\": \"69\", \"age_units\": \"year\", \"health_status\": \"breast cancer (adenocarcinoma)\", \"life_stage\": \"adult\", \"applied_modifications\": [], \"characterizations\": [], \"parent_of\": [], \"age_display\": \"69 years\", \"origin_batch\": \"/biosamples/ENCBS000AAA/\", \"perturbed\": false, \"simple_summary\": \"\", \"summary\": \"Homo sapiens MCF-7 cell line\", \"@context\": \"/terms/\", \"audit\": {}}"
          ]
        }
      ]
    },
    {
      "cell_type": "code",
      "metadata": {
        "id": "V1f3rDNSFXet"
      },
      "source": [
        "# imports \n",
        "import requests, json"
      ],
      "execution_count": 2,
      "outputs": []
    },
    {
      "cell_type": "code",
      "metadata": {
        "colab": {
          "base_uri": "https://localhost:8080/"
        },
        "id": "7qFgkbwhG6vf",
        "outputId": "040e8318-cb00-4c85-b1b4-c0b0bce70407"
      },
      "source": [
        "# Force return from the server in JSON format\n",
        "headers = {'accept': 'application/json'}\n",
        " \n",
        "# This URL locates the ENCODE biosample with accession number ENCBS000AAA\n",
        "url = 'https://www.encodeproject.org/biosample/ENCBS000AAA/?frame=object'\n",
        " \n",
        "# GET the object\n",
        "response = requests.get(url, headers=headers)\n",
        " \n",
        "# Extract the JSON response as a Python dictionary\n",
        "biosample = response.json()\n",
        "\n",
        "# Print the Python object\n",
        "print(json.dumps(biosample, indent=4))"
      ],
      "execution_count": 3,
      "outputs": [
        {
          "output_type": "stream",
          "name": "stdout",
          "text": [
            "{\n",
            "    \"accession\": \"ENCBS000AAA\",\n",
            "    \"url\": \"http://www.atcc.org/Products/All/HTB-22.aspx\",\n",
            "    \"aliases\": [\n",
            "        \"richard-myers:MCF7-003\"\n",
            "    ],\n",
            "    \"schema_version\": \"26\",\n",
            "    \"status\": \"released\",\n",
            "    \"lab\": \"/labs/richard-myers/\",\n",
            "    \"award\": \"/awards/U54HG004576/\",\n",
            "    \"date_created\": \"2013-12-12T05:50:02.101495+00:00\",\n",
            "    \"submitted_by\": \"/users/df9f3c8e-b819-4885-8f16-08f6ef0001e8/\",\n",
            "    \"notes\": \"(PMID: 4357757)\",\n",
            "    \"documents\": [\n",
            "        \"/documents/984071d4-9149-476a-b353-93592c6f48f3/\"\n",
            "    ],\n",
            "    \"references\": [],\n",
            "    \"source\": \"/sources/atcc/\",\n",
            "    \"product_id\": \"HTB-22\",\n",
            "    \"biosample_ontology\": \"/biosample-types/cell_line_EFO_0001203/\",\n",
            "    \"genetic_modifications\": [],\n",
            "    \"alternate_accessions\": [],\n",
            "    \"description\": \"mammary gland, adenocarcinoma\",\n",
            "    \"treatments\": [],\n",
            "    \"dbxrefs\": [\n",
            "        \"UCSC-ENCODE-cv:MCF-7\"\n",
            "    ],\n",
            "    \"donor\": \"/human-donors/ENCDO000AAE/\",\n",
            "    \"organism\": \"/organisms/human/\",\n",
            "    \"passage_number\": 5,\n",
            "    \"internal_tags\": [],\n",
            "    \"culture_harvest_date\": \"2012-04-10\",\n",
            "    \"culture_start_date\": \"2012-03-16\",\n",
            "    \"@id\": \"/biosamples/ENCBS000AAA/\",\n",
            "    \"@type\": [\n",
            "        \"Biosample\",\n",
            "        \"Item\"\n",
            "    ],\n",
            "    \"uuid\": \"56e94f2b-25ac-4c58-9828-f63b66220999\",\n",
            "    \"sex\": \"female\",\n",
            "    \"age\": \"69\",\n",
            "    \"age_units\": \"year\",\n",
            "    \"health_status\": \"breast cancer (adenocarcinoma)\",\n",
            "    \"life_stage\": \"adult\",\n",
            "    \"applied_modifications\": [],\n",
            "    \"characterizations\": [],\n",
            "    \"parent_of\": [],\n",
            "    \"age_display\": \"69 years\",\n",
            "    \"origin_batch\": \"/biosamples/ENCBS000AAA/\",\n",
            "    \"perturbed\": false,\n",
            "    \"simple_summary\": \"\",\n",
            "    \"summary\": \"Homo sapiens MCF-7 cell line\"\n",
            "}\n"
          ]
        }
      ]
    },
    {
      "cell_type": "code",
      "metadata": {
        "id": "AnIEivb_G_CZ"
      },
      "source": [
        ""
      ],
      "execution_count": null,
      "outputs": []
    }
  ]
}